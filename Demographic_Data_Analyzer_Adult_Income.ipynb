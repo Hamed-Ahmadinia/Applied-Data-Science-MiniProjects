{
 "cells": [
  {
   "cell_type": "markdown",
   "id": "27e60de8-07c8-4d32-8c5f-59cc31ece6df",
   "metadata": {},
   "source": [
    "\n",
    "# Demographic Data Analyzer: Adult Income and Demographic Data\n",
    "\n",
    "**Author:** Hamed Ahmadinia  \n",
    "**Date:** 2.1.2024\n",
    "\n",
    "This notebook is designed to perform data analysis on a demographic dataset. The dataset contains information on adults such as their age, work class, education, marital status, and other features related to income and demographic characteristics.\n",
    "\n",
    "The goal of this analysis is to derive insights from the data, such as the distribution of various demographic attributes, average values for certain groups, and overall statistics for better understanding of the population.\n"
   ]
  },
  {
   "cell_type": "code",
   "execution_count": 4,
   "id": "e08fba02-c2b8-4847-9e2e-deb5d988bc42",
   "metadata": {},
   "outputs": [],
   "source": [
    "import pandas as pd"
   ]
  },
  {
   "cell_type": "code",
   "execution_count": 6,
   "id": "3ef5cae9-c563-4c80-98e3-5bd44d810dc0",
   "metadata": {},
   "outputs": [],
   "source": [
    "### Step 1: Data Loading\n",
    "# We start by loading the dataset and assigning appropriate column names. This dataset contains demographic information of adults in the United States. \n",
    "# The column names include age, work class, education, occupation, race, sex, and income information.\n",
    "\n",
    "# Load the dataset with appropriate column names\n",
    "column_names = ['age', 'workclass', 'fnlwgt', 'education', 'education-num', \n",
    "                'marital-status', 'occupation', 'relationship', 'race', 'sex', \n",
    "                'capital-gain', 'capital-loss', 'hours-per-week', 'native-country', 'salary']\n",
    "\n",
    "df = pd.read_csv('adult.data.csv', names=column_names, skiprows=1)"
   ]
  },
  {
   "cell_type": "code",
   "execution_count": 8,
   "id": "ebaf1cd8-50d1-40a9-a278-e3683bbb3fb5",
   "metadata": {},
   "outputs": [
    {
     "name": "stdout",
     "output_type": "stream",
     "text": [
      "Race count:\n",
      " race\n",
      "White                 27816\n",
      "Black                  3124\n",
      "Asian-Pac-Islander     1039\n",
      "Amer-Indian-Eskimo      311\n",
      "Other                   271\n",
      "Name: count, dtype: int64\n"
     ]
    }
   ],
   "source": [
    "# How many people of each race are represented in this dataset?\n",
    "race_count = df['race'].value_counts()\n",
    "print(\"Race count:\\n\", race_count)"
   ]
  },
  {
   "cell_type": "code",
   "execution_count": 10,
   "id": "89f2db25-4d9b-4adc-87dd-5c301f34fd41",
   "metadata": {},
   "outputs": [
    {
     "name": "stdout",
     "output_type": "stream",
     "text": [
      "Race count:\n",
      " race\n",
      "White                 27816\n",
      "Black                  3124\n",
      "Asian-Pac-Islander     1039\n",
      "Amer-Indian-Eskimo      311\n",
      "Other                   271\n",
      "Name: count, dtype: int64\n"
     ]
    }
   ],
   "source": [
    "### Step 2: Race Distribution Analysis\n",
    "# In this step, we calculate how many people of each race are represented in the dataset.\n",
    "\n",
    "# How many people of each race are represented in this dataset?\n",
    "race_count = df['race'].value_counts()\n",
    "print(\"Race count:\\n\", race_count)"
   ]
  },
  {
   "cell_type": "code",
   "execution_count": 12,
   "id": "af9265f2-8ab6-4bd6-a06f-44bdc89550fc",
   "metadata": {},
   "outputs": [
    {
     "name": "stdout",
     "output_type": "stream",
     "text": [
      "\n",
      "Average age of men: 39.43354749885268\n"
     ]
    }
   ],
   "source": [
    "### Step 3: Average Age of Men\n",
    "# Next, we calculate the average age of men in the dataset. This can help us understand the age distribution within male respondents.\n",
    "\n",
    "average_age_men = df[df['sex'] == 'Male']['age'].mean()\n",
    "print(\"\\nAverage age of men:\", average_age_men)"
   ]
  },
  {
   "cell_type": "code",
   "execution_count": 14,
   "id": "59b265b9-e7f3-416d-8b44-0006f4d97cda",
   "metadata": {},
   "outputs": [
    {
     "name": "stdout",
     "output_type": "stream",
     "text": [
      "Percentage with higher education that earn >50K: 46.54%\n",
      "Percentage without higher education that earn >50K: 17.37%\n"
     ]
    }
   ],
   "source": [
    "### Step 4: Education and Salary Analysis\n",
    "# In this step, we analyze the relationship between education and salary. Specifically, we will calculate the percentage of individuals with a Bachelor's degree who earn more than 50K.\n",
    "\n",
    "higher_education = df[df['education'].isin(['Bachelors', 'Masters', 'Doctorate'])]\n",
    "lower_education = df[~df['education'].isin(['Bachelors', 'Masters', 'Doctorate'])]\n",
    "\n",
    "higher_education_rich = higher_education[higher_education['salary'] == '>50K'].shape[0] / higher_education.shape[0]\n",
    "lower_education_rich = lower_education[lower_education['salary'] == '>50K'].shape[0] / lower_education.shape[0]\n",
    "\n",
    "print(f\"Percentage with higher education that earn >50K: {higher_education_rich:.2%}\")\n",
    "print(f\"Percentage without higher education that earn >50K: {lower_education_rich:.2%}\")"
   ]
  },
  {
   "cell_type": "code",
   "execution_count": 16,
   "id": "a2ae0562-8f17-4122-a084-b52d73ac1e17",
   "metadata": {},
   "outputs": [
    {
     "name": "stdout",
     "output_type": "stream",
     "text": [
      "Percentage of people working more than 1 hours per week and earning >50K: 24.09%\n"
     ]
    }
   ],
   "source": [
    "### Step 5: Working Hours and Salary\n",
    "# Here we calculate the percentage of people who work a minimum of 40 hours per week and earn more than 50K. \n",
    "\n",
    "min_work_hours = df['hours-per-week'].min()\n",
    "rich_percentage = df[(df['hours-per-week'] > min_work_hours) & (df['salary'] == '>50K')].shape[0] / df[df['hours-per-week'] > min_work_hours].shape[0]\n",
    "print(f\"Percentage of people working more than {min_work_hours} hours per week and earning >50K: {rich_percentage:.2%}\")"
   ]
  },
  {
   "cell_type": "code",
   "execution_count": 18,
   "id": "40125790-60c1-478c-ae33-f4e7e152137b",
   "metadata": {},
   "outputs": [
    {
     "name": "stdout",
     "output_type": "stream",
     "text": [
      "Country with highest percentage of people earning >50K: Iran\n",
      "Highest percentage of people earning >50K: 41.86%\n"
     ]
    }
   ],
   "source": [
    "### Step 6: Country-wise Income Analysis\n",
    "# In this step, we analyze which country has the highest percentage of individuals earning more than 50K. \n",
    "\n",
    "country_salary = df.groupby('native-country')['salary'].apply(lambda x: (x == '>50K').mean()).sort_values(ascending=False)\n",
    "highest_earning_country = country_salary.idxmax()\n",
    "highest_earning_country_percentage = country_salary.max()\n",
    "\n",
    "print(f\"Country with highest percentage of people earning >50K: {highest_earning_country}\")\n",
    "print(f\"Highest percentage of people earning >50K: {highest_earning_country_percentage:.2%}\")"
   ]
  },
  {
   "cell_type": "code",
   "execution_count": 20,
   "id": "da474093-e4d7-45fc-aa98-638e20174f5d",
   "metadata": {},
   "outputs": [
    {
     "name": "stdout",
     "output_type": "stream",
     "text": [
      "Most popular occupation for those who earn >50K in the United States: Exec-managerial\n"
     ]
    }
   ],
   "source": [
    "### Step 7: Most Popular Occupation Among High Earners\n",
    "# we will identify the most popular occupation among individuals who earn more than 50K in the United States.\n",
    "\n",
    "top_US_occupation = df[(df['salary'] == '>50K') & (df['native-country'] == 'United-States')]['occupation'].value_counts().idxmax()\n",
    "print(f\"Most popular occupation for those who earn >50K in the United States: {top_US_occupation}\")"
   ]
  },
  {
   "cell_type": "code",
   "execution_count": 22,
   "id": "6605d88b-b213-47ca-b00d-d04aec7c3209",
   "metadata": {},
   "outputs": [
    {
     "name": "stdout",
     "output_type": "stream",
     "text": [
      "Country with highest percentage of people earning >50K: Iran\n",
      "Highest percentage of people earning >50K: 41.86%\n"
     ]
    }
   ],
   "source": [
    "### Step 8: Country-wise Income Analysis (Highest Earning Country)\n",
    "# In this step, we will find which country has the highest percentage of people earning more than 50K and calculate the exact percentage.\n",
    "\n",
    "country_salary = df.groupby('native-country')['salary'].apply(lambda x: (x == '>50K').mean()).sort_values(ascending=False)\n",
    "highest_earning_country = country_salary.idxmax()\n",
    "highest_earning_country_percentage = country_salary.max()\n",
    "\n",
    "print(f\"Country with highest percentage of people earning >50K: {highest_earning_country}\")\n",
    "print(f\"Highest percentage of people earning >50K: {highest_earning_country_percentage:.2%}\")"
   ]
  },
  {
   "cell_type": "code",
   "execution_count": 24,
   "id": "086445c4-09d6-47f2-b450-4cbc1e5c96ca",
   "metadata": {},
   "outputs": [
    {
     "name": "stdout",
     "output_type": "stream",
     "text": [
      "Most popular occupation for those who earn >50K in India: Prof-specialty\n"
     ]
    }
   ],
   "source": [
    "### Step 9: Popular Occupation Among High Earners in India\n",
    "# Here we will analyze the most popular occupation for individuals earning more than 50K in India.\n",
    "\n",
    "top_india_occupation = df[(df['salary'] == '>50K') & (df['native-country'] == 'India')]['occupation'].value_counts().idxmax()\n",
    "print(f\"Most popular occupation for those who earn >50K in India: {top_india_occupation}\")"
   ]
  },
  {
   "cell_type": "code",
   "execution_count": 26,
   "id": "232fe0eb-e529-4eda-ae78-ed53ede1b620",
   "metadata": {},
   "outputs": [
    {
     "name": "stdout",
     "output_type": "stream",
     "text": [
      "Average hours-per-week for people earning >50K:\n",
      "sex\n",
      "Female    40.426633\n",
      "Male      46.366106\n",
      "Name: hours-per-week, dtype: float64\n"
     ]
    }
   ],
   "source": [
    "### Step 10: Average Working Hours Comparison by Gender\n",
    "# We will now calculate the average hours worked per week for individuals earning more than 50K, and compare the results between men and women.\n",
    "\n",
    "average_hours_per_week = df[df['salary'] == '>50K'].groupby('sex')['hours-per-week'].mean()\n",
    "print(\"Average hours-per-week for people earning >50K:\")\n",
    "print(average_hours_per_week)"
   ]
  },
  {
   "cell_type": "code",
   "execution_count": 28,
   "id": "a4d98783-f323-48ba-a678-ca3af5925936",
   "metadata": {},
   "outputs": [
    {
     "name": "stdout",
     "output_type": "stream",
     "text": [
      "Most common marital status for people earning >50K: Married-civ-spouse\n"
     ]
    }
   ],
   "source": [
    "### Step 11: Common Marital Status Among High Earners\n",
    "# We will analyze the most common marital status among people who earn more than 50K.\n",
    "    \n",
    "common_marital_status = df[df['salary'] == '>50K']['marital-status'].value_counts().idxmax()\n",
    "print(f\"Most common marital status for people earning >50K: {common_marital_status}\")"
   ]
  },
  {
   "cell_type": "code",
   "execution_count": 30,
   "id": "958efd2f-dfd7-433e-b43d-f37187003f24",
   "metadata": {},
   "outputs": [
    {
     "name": "stdout",
     "output_type": "stream",
     "text": [
      "Occupation with highest average capital gain: Priv-house-serv\n"
     ]
    }
   ],
   "source": [
    "### Step 12: Occupation with Highest Average Capital Gain\n",
    "# This step will help us identify which occupation has the highest average capital gain for people earning more than 50K.\n",
    "\n",
    "highest_avg_capital_gain_occupation = df[df['salary'] == '>50K'].groupby('occupation')['capital-gain'].mean().idxmax()\n",
    "print(f\"Occupation with highest average capital gain: {highest_avg_capital_gain_occupation}\")"
   ]
  },
  {
   "cell_type": "code",
   "execution_count": 32,
   "id": "1eb7704c-516b-435b-a537-3c1683c810d8",
   "metadata": {},
   "outputs": [
    {
     "name": "stdout",
     "output_type": "stream",
     "text": [
      "Average age by race:\n",
      "race\n",
      "Amer-Indian-Eskimo    37.173633\n",
      "Asian-Pac-Islander    37.746872\n",
      "Black                 37.767926\n",
      "Other                 33.457565\n",
      "White                 38.769881\n",
      "Name: age, dtype: float64\n"
     ]
    }
   ],
   "source": [
    "### Step 13: Average Age by Race\n",
    "# Next, we will calculate the average age for individuals of each race in the dataset.\n",
    "\n",
    "average_age_by_race = df.groupby('race')['age'].mean()\n",
    "print(\"Average age by race:\")\n",
    "print(average_age_by_race)"
   ]
  },
  {
   "cell_type": "code",
   "execution_count": 34,
   "id": "937c608e-7f29-4025-89ff-31a7fb89b921",
   "metadata": {},
   "outputs": [
    {
     "name": "stdout",
     "output_type": "stream",
     "text": [
      "Percentage of each race earning more than 50K:\n",
      "race\n",
      "Amer-Indian-Eskimo    0.115756\n",
      "Asian-Pac-Islander    0.265640\n",
      "Black                 0.123880\n",
      "Other                 0.092251\n",
      "White                 0.255860\n",
      "Name: salary, dtype: float64\n"
     ]
    }
   ],
   "source": [
    "### Step 14: Percentage of High Earners by Race\n",
    "# Lastly, we will find out what percentage of individuals from each race earn more than 50K.\n",
    "\n",
    "percentage_earning_by_race = df.groupby('race')['salary'].apply(lambda x: (x == '>50K').mean())\n",
    "print(\"Percentage of each race earning more than 50K:\")\n",
    "print(percentage_earning_by_race)"
   ]
  }
 ],
 "metadata": {
  "kernelspec": {
   "display_name": "Python 3 (ipykernel)",
   "language": "python",
   "name": "python3"
  },
  "language_info": {
   "codemirror_mode": {
    "name": "ipython",
    "version": 3
   },
   "file_extension": ".py",
   "mimetype": "text/x-python",
   "name": "python",
   "nbconvert_exporter": "python",
   "pygments_lexer": "ipython3",
   "version": "3.11.7"
  }
 },
 "nbformat": 4,
 "nbformat_minor": 5
}
